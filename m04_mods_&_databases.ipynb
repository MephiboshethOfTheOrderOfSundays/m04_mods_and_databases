{
 "cells": [
  {
   "cell_type": "markdown",
   "id": "1780967d",
   "metadata": {},
   "source": [
    "# 11.1"
   ]
  },
  {
   "cell_type": "code",
   "execution_count": null,
   "id": "91c3e96a",
   "metadata": {},
   "outputs": [],
   "source": [
    "import zoo\n",
    "zoo.hours()"
   ]
  },
  {
   "cell_type": "markdown",
   "id": "0b8324c9",
   "metadata": {},
   "source": [
    "# 11.2"
   ]
  },
  {
   "cell_type": "code",
   "execution_count": null,
   "id": "b097321c",
   "metadata": {},
   "outputs": [],
   "source": [
    "import zoo as menagerie\n",
    "menagerie.hours()"
   ]
  },
  {
   "cell_type": "markdown",
   "id": "7cc51c27",
   "metadata": {},
   "source": [
    "# 16.8"
   ]
  },
  {
   "cell_type": "markdown",
   "id": "091d2d9a",
   "metadata": {},
   "source": [
    "#### Note: This part includes actions from 16.3 and 16.4, due to the relationship of 16.8 to those exercises."
   ]
  },
  {
   "cell_type": "code",
   "execution_count": 1,
   "id": "e3e8852e",
   "metadata": {},
   "outputs": [
    {
     "data": {
      "text/plain": [
       "<sqlite3.Cursor at 0x25f88a821c0>"
      ]
     },
     "execution_count": 1,
     "metadata": {},
     "output_type": "execute_result"
    }
   ],
   "source": [
    "import sqlite3\n",
    "conn = sqlite3.connect('books.db')\n",
    "curs = conn.cursor()\n",
    "curs.execute('''CREATE TABLE books \n",
    "             (title VARCHAR, \n",
    "              author VARCHAR, \n",
    "              year INT)''')"
   ]
  },
  {
   "cell_type": "code",
   "execution_count": 4,
   "id": "6a5fb957",
   "metadata": {},
   "outputs": [
    {
     "data": {
      "text/plain": [
       "[('Perdido Street Station',),\n",
       " ('Small Gods',),\n",
       " ('The Spellman Files',),\n",
       " ('The Weirdstone of Brisingamen',),\n",
       " ('Thud',)]"
      ]
     },
     "execution_count": 4,
     "metadata": {},
     "output_type": "execute_result"
    }
   ],
   "source": [
    "curs.execute('DELETE FROM books')\n",
    "curs.execute('INSERT INTO books VALUES (\"The Weirdstone of Brisingamen\", \"Alan Garner\", 1960)')\n",
    "curs.execute('INSERT INTO books VALUES (\"Perdido Street Station\", \"China Miéville\", 2000)')\n",
    "curs.execute('INSERT INTO books VALUES (\"Thud\", \"Terry Pratchett\", 2005)')\n",
    "curs.execute('INSERT INTO books VALUES (\"The Spellman Files\", \"Lisa Lutz\", 2007)')\n",
    "curs.execute('INSERT INTO books VALUES (\"Small Gods\", \"Terry Pratchett\", 1992)')\n",
    "curs.execute('SELECT title FROM books ORDER BY title')\n",
    "curs.fetchall()"
   ]
  }
 ],
 "metadata": {
  "kernelspec": {
   "display_name": "Python 3 (ipykernel)",
   "language": "python",
   "name": "python3"
  },
  "language_info": {
   "codemirror_mode": {
    "name": "ipython",
    "version": 3
   },
   "file_extension": ".py",
   "mimetype": "text/x-python",
   "name": "python",
   "nbconvert_exporter": "python",
   "pygments_lexer": "ipython3",
   "version": "3.10.9"
  }
 },
 "nbformat": 4,
 "nbformat_minor": 5
}
